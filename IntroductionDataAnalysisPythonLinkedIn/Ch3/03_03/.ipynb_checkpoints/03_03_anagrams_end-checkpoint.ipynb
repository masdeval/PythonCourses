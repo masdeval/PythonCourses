{
 "cells": [
  {
   "cell_type": "code",
   "execution_count": 2,
   "metadata": {
    "collapsed": true
   },
   "outputs": [],
   "source": [
    "word = open('words','r')"
   ]
  },
  {
   "cell_type": "code",
   "execution_count": 3,
   "metadata": {
    "collapsed": false
   },
   "outputs": [
    {
     "data": {
      "text/plain": [
       "<_io.TextIOWrapper name='words' mode='r' encoding='UTF-8'>"
      ]
     },
     "execution_count": 3,
     "metadata": {},
     "output_type": "execute_result"
    }
   ],
   "source": [
    "word"
   ]
  },
  {
   "cell_type": "code",
   "execution_count": 4,
   "metadata": {
    "collapsed": true
   },
   "outputs": [],
   "source": [
    "wordlist = word.readlines()"
   ]
  },
  {
   "cell_type": "code",
   "execution_count": 5,
   "metadata": {
    "collapsed": false,
    "scrolled": false
   },
   "outputs": [
    {
     "data": {
      "text/plain": [
       "['A\\n',\n",
       " 'a\\n',\n",
       " 'aa\\n',\n",
       " 'aal\\n',\n",
       " 'aalii\\n',\n",
       " 'aam\\n',\n",
       " 'Aani\\n',\n",
       " 'aardvark\\n',\n",
       " 'aardwolf\\n',\n",
       " 'Aaron\\n']"
      ]
     },
     "execution_count": 5,
     "metadata": {},
     "output_type": "execute_result"
    }
   ],
   "source": [
    "wordlist[:10]"
   ]
  },
  {
   "cell_type": "code",
   "execution_count": 6,
   "metadata": {
    "collapsed": false
   },
   "outputs": [
    {
     "data": {
      "text/plain": [
       "235886"
      ]
     },
     "execution_count": 6,
     "metadata": {},
     "output_type": "execute_result"
    }
   ],
   "source": [
    "len(wordlist)"
   ]
  },
  {
   "cell_type": "code",
   "execution_count": 7,
   "metadata": {
    "collapsed": false
   },
   "outputs": [
    {
     "data": {
      "text/plain": [
       "'Aaron'"
      ]
     },
     "execution_count": 7,
     "metadata": {},
     "output_type": "execute_result"
    }
   ],
   "source": [
    "'Aaron\\n'.strip()"
   ]
  },
  {
   "cell_type": "code",
   "execution_count": 8,
   "metadata": {
    "collapsed": false
   },
   "outputs": [
    {
     "data": {
      "text/plain": [
       "'aaron'"
      ]
     },
     "execution_count": 8,
     "metadata": {},
     "output_type": "execute_result"
    }
   ],
   "source": [
    "'Aaron'.lower()"
   ]
  },
  {
   "cell_type": "code",
   "execution_count": 9,
   "metadata": {
    "collapsed": true
   },
   "outputs": [],
   "source": [
    "wordclean = [word.strip().lower() for word in wordlist]"
   ]
  },
  {
   "cell_type": "code",
   "execution_count": 10,
   "metadata": {
    "collapsed": false
   },
   "outputs": [
    {
     "data": {
      "text/plain": [
       "['a',\n",
       " 'a',\n",
       " 'aa',\n",
       " 'aal',\n",
       " 'aalii',\n",
       " 'aam',\n",
       " 'aani',\n",
       " 'aardvark',\n",
       " 'aardwolf',\n",
       " 'aaron']"
      ]
     },
     "execution_count": 10,
     "metadata": {},
     "output_type": "execute_result"
    }
   ],
   "source": [
    "wordclean[:10]"
   ]
  },
  {
   "cell_type": "code",
   "execution_count": 11,
   "metadata": {
    "collapsed": true
   },
   "outputs": [],
   "source": [
    "wordunique = list(set(wordclean))"
   ]
  },
  {
   "cell_type": "code",
   "execution_count": 12,
   "metadata": {
    "collapsed": true
   },
   "outputs": [
    {
     "data": {
      "text/plain": [
       "['sufferingly',\n",
       " 'stenotypist',\n",
       " 'misvouch',\n",
       " 'tracery',\n",
       " 'untracked',\n",
       " 'unpreposterous',\n",
       " 'spratter',\n",
       " 'angiomegaly',\n",
       " 'holarthritis',\n",
       " 'tessellated',\n",
       " 'dodginess',\n",
       " 'mediad',\n",
       " 'chondrus',\n",
       " 'zoogene',\n",
       " 'unblenching',\n",
       " 'macrobiotus',\n",
       " 'rekick',\n",
       " 'scliff',\n",
       " 'petalage',\n",
       " 'mullid',\n",
       " 'empiristic',\n",
       " 'prefixation',\n",
       " 'glitterance',\n",
       " 'tetrahexahedron',\n",
       " 'artiller',\n",
       " 'morigerous',\n",
       " 'conceded',\n",
       " 'recorporification',\n",
       " 'thyroprotein',\n",
       " 'homogeny',\n",
       " 'auletai',\n",
       " 'murkiness',\n",
       " 'limaceous',\n",
       " 'audibly',\n",
       " 'phosphorylation',\n",
       " 'hysterometry',\n",
       " 'unnumberedness',\n",
       " 'masculinely',\n",
       " 'polydactylous',\n",
       " 'metatarsale',\n",
       " 'beekmantown',\n",
       " 'stinkbug',\n",
       " 'cresphontes',\n",
       " 'taboparetic',\n",
       " 'ideophonous',\n",
       " 'nervomuscular',\n",
       " 'misadapt',\n",
       " 'causticizer',\n",
       " 'dissertational',\n",
       " 'acquaint',\n",
       " 'promammalia',\n",
       " 'conceptism',\n",
       " 'culebra',\n",
       " 'founderous',\n",
       " 'disedge',\n",
       " 'graupel',\n",
       " 'radiotropic',\n",
       " 'greekish',\n",
       " 'reactively',\n",
       " 'erect',\n",
       " 'operationist',\n",
       " 'cankeredly',\n",
       " 'aromatize',\n",
       " 'alphard',\n",
       " 'hoplonemertine',\n",
       " 'zebrina',\n",
       " 'growed',\n",
       " 'pradeep',\n",
       " 'inexhaustibleness',\n",
       " 'haruspicate',\n",
       " 'pyrostilpnite',\n",
       " 'uninsane',\n",
       " 'tuberculomania',\n",
       " 'adempted',\n",
       " 'biostatic',\n",
       " 'rainless',\n",
       " 'laborously',\n",
       " 'litvak',\n",
       " 'wisdom',\n",
       " 'plumous',\n",
       " 'clite',\n",
       " 'nucleon',\n",
       " 'representment',\n",
       " 'sneezeproof',\n",
       " 'nonubiquitous',\n",
       " 'hardback',\n",
       " 'sheepfold',\n",
       " 'aglauros',\n",
       " 'miridae',\n",
       " 'anay',\n",
       " 'impliedness',\n",
       " 'doomage',\n",
       " 'coprozoic',\n",
       " 'military',\n",
       " 'stillicide',\n",
       " 'byzantinize',\n",
       " 'everyday',\n",
       " 'engore',\n",
       " 'toit',\n",
       " 'morinel',\n",
       " 'shiftlessly',\n",
       " 'gawn',\n",
       " 'commercialize',\n",
       " 'pedagogical',\n",
       " 'caudatum',\n",
       " 'thoracicoacromial',\n",
       " 'hydroiodic',\n",
       " 'rurally',\n",
       " 'prospectless',\n",
       " 'bruang',\n",
       " 'repugner',\n",
       " 'antimonopoly',\n",
       " 'traditorship',\n",
       " 'multimacular',\n",
       " 'piquant',\n",
       " 'dilatator',\n",
       " 'terminably',\n",
       " 'flaw',\n",
       " 'viperoid',\n",
       " 'cablegram',\n",
       " 'peafowl',\n",
       " 'rushingness',\n",
       " 'seriation',\n",
       " 'ascendence',\n",
       " 'charterage',\n",
       " 'apemantus',\n",
       " 'cryptesthetic',\n",
       " 'drunkard',\n",
       " 'linitis',\n",
       " 'billback',\n",
       " 'tricipital',\n",
       " 'underbridge',\n",
       " 'bucciniform',\n",
       " 'picropodophyllin',\n",
       " 'elongated',\n",
       " 'undocumentedness',\n",
       " 'fetlock',\n",
       " 'dispersiveness',\n",
       " 'antiscabious',\n",
       " 'unincidental',\n",
       " 'lamaite',\n",
       " 'hogget',\n",
       " 'stickers',\n",
       " 'predeliberation',\n",
       " 'imposingly',\n",
       " 'bronchotyphus',\n",
       " 'sacrocostal',\n",
       " 'deamidization',\n",
       " 'rotulian',\n",
       " 'consubsist',\n",
       " 'coptic',\n",
       " 'uninventively',\n",
       " 'unswathable',\n",
       " 'gentianin',\n",
       " 'teutondom',\n",
       " 'unicycle',\n",
       " 'perspicuity',\n",
       " 'jarmo',\n",
       " 'subcommendation',\n",
       " 'swooper',\n",
       " 'boo',\n",
       " 'sivatherioid',\n",
       " 'esperantido',\n",
       " 'spalder',\n",
       " 'pentose',\n",
       " 'rekindle',\n",
       " 'corkwing',\n",
       " 'picarii',\n",
       " 'waxhaw',\n",
       " 'bandoleer',\n",
       " 'ethnographist',\n",
       " 'idlement',\n",
       " 'autolyzate',\n",
       " 'gleemaiden',\n",
       " 'misdetermine',\n",
       " 'police',\n",
       " 'parnas',\n",
       " 'faroese',\n",
       " 'dynamitist',\n",
       " 'plotter',\n",
       " 'hierolatry',\n",
       " 'meningomyelitis',\n",
       " 'cinder',\n",
       " 'untrashed',\n",
       " 'cynipidae',\n",
       " 'sminthurid',\n",
       " 'angularization',\n",
       " 'hopscotch',\n",
       " 'chironomus',\n",
       " 'flower',\n",
       " 'cercelee',\n",
       " 'defog',\n",
       " 'catling',\n",
       " 'diminutal',\n",
       " 'majorship',\n",
       " 'palaverment',\n",
       " 'peristrumous',\n",
       " 'pleurococcus',\n",
       " 'tartramate',\n",
       " 'teloteropathic',\n",
       " 'polymely',\n",
       " 'tonguedoughty',\n",
       " 'turmit',\n",
       " 'beblubber',\n",
       " 'befamine',\n",
       " 'prologuize',\n",
       " 'ropewalk',\n",
       " 'energetics',\n",
       " 'presidio',\n",
       " 'primitive',\n",
       " 'handbook',\n",
       " 'radiation',\n",
       " 'autobasidia',\n",
       " 'exenteration',\n",
       " 'mygaloid',\n",
       " 'precivilization',\n",
       " 'spend',\n",
       " 'triadical',\n",
       " 'humhum',\n",
       " 'upboost',\n",
       " 'splendidly',\n",
       " 'eustace',\n",
       " 'ergatandry',\n",
       " 'construction',\n",
       " 'coprolaliac',\n",
       " 'scotchiness',\n",
       " 'neohexane',\n",
       " 'enterohepatitis',\n",
       " 'granitic',\n",
       " 'vasemaking',\n",
       " 'biltongue',\n",
       " 'anoesia',\n",
       " 'ancestress',\n",
       " 'sparrowy',\n",
       " 'huckle',\n",
       " 'histioid',\n",
       " 'orangewoman',\n",
       " 'missentence',\n",
       " 'anarchosocialist',\n",
       " 'symposiac',\n",
       " 'vacantheartedness',\n",
       " 'anconagra',\n",
       " 'secede',\n",
       " 'cetonian',\n",
       " 'uncentury',\n",
       " 'skewerer',\n",
       " 'venatic',\n",
       " 'fissile',\n",
       " 'glutch',\n",
       " 'caressant',\n",
       " 'unacceptable',\n",
       " 'rixatrix',\n",
       " 'evaporometer',\n",
       " 'brontology',\n",
       " 'coadminister',\n",
       " 'disposability',\n",
       " 'augury',\n",
       " 'bridale',\n",
       " 'multirate',\n",
       " 'voided',\n",
       " 'rufus',\n",
       " 'democratian',\n",
       " 'bedbug',\n",
       " 'ribbon',\n",
       " 'subnitrated',\n",
       " 'unactable',\n",
       " 'drawers',\n",
       " 'extrorse',\n",
       " 'tromba',\n",
       " 'epigenic',\n",
       " 'pteridosperm',\n",
       " 'jack',\n",
       " 'yarder',\n",
       " 'indicative',\n",
       " 'sickerly',\n",
       " 'boltrope',\n",
       " 'nonsignature',\n",
       " 'eveline',\n",
       " 'feat',\n",
       " 'tautomorphous',\n",
       " 'unflinching',\n",
       " 'radioautographic',\n",
       " 'affirmably',\n",
       " 'heredofamilial',\n",
       " 'barotaxy',\n",
       " 'floriscope',\n",
       " 'scampavia',\n",
       " 'unreservedly',\n",
       " 'winch',\n",
       " 'adventuresomeness',\n",
       " 'easing',\n",
       " 'unregulated',\n",
       " 'vahine',\n",
       " 'agatha',\n",
       " 'pantagraph',\n",
       " 'repreach',\n",
       " 'pulley',\n",
       " 'lurk',\n",
       " 'outfieldsman',\n",
       " 'tarheeler',\n",
       " 'toparchia',\n",
       " 'niue',\n",
       " 'histotrophic',\n",
       " 'asmear',\n",
       " 'unperiodic',\n",
       " 'nonfuturity',\n",
       " 'fictive',\n",
       " 'inkstain',\n",
       " 'gearbox',\n",
       " 'oxalodiacetic',\n",
       " 'poignancy',\n",
       " 'hippopathology',\n",
       " 'precinction',\n",
       " 'scrounger',\n",
       " 'washita',\n",
       " 'ungaining',\n",
       " 'restoratory',\n",
       " 'accelerated',\n",
       " 'demise',\n",
       " 'amphiplatyan',\n",
       " 'lacertilian',\n",
       " 'ancylostomum',\n",
       " 'hydrotropism',\n",
       " 'entreatment',\n",
       " 'wapping',\n",
       " 'butteris',\n",
       " 'hominivorous',\n",
       " 'dramatism',\n",
       " 'ploratory',\n",
       " 'naivety',\n",
       " 'protoleucocyte',\n",
       " 'smartly',\n",
       " 'odalman',\n",
       " 'caulome',\n",
       " 'labial',\n",
       " 'toxotes',\n",
       " 'unreportedness',\n",
       " 'wherever',\n",
       " 'hipbone',\n",
       " 'rosarian',\n",
       " 'refectioner',\n",
       " 'proclamator',\n",
       " 'overgrossness',\n",
       " 'pseudosophical',\n",
       " 'secpar',\n",
       " 'fanlight',\n",
       " 'gluneamie',\n",
       " 'lucerne',\n",
       " 'eidolic',\n",
       " 'commelina',\n",
       " 'ornithosaur',\n",
       " 'overplumpness',\n",
       " 'hyoidan',\n",
       " 'undeluding',\n",
       " 'detectible',\n",
       " 'explorational',\n",
       " 'antistadholder',\n",
       " 'inerudition',\n",
       " 'pseudobenthos',\n",
       " 'hogmace',\n",
       " 'armbone',\n",
       " 'kraken',\n",
       " 'magdalenian',\n",
       " 'epicedian',\n",
       " 'aploperistomatous',\n",
       " 'madia',\n",
       " 'semite',\n",
       " 'unimedial',\n",
       " 'adipoceriform',\n",
       " 'agroof',\n",
       " 'crowflower',\n",
       " 'galbula',\n",
       " 'prearticulate',\n",
       " 'resect',\n",
       " 'repudiator',\n",
       " 'cheatableness',\n",
       " 'dufterdar',\n",
       " 'mulierose',\n",
       " 'peculate',\n",
       " 'proustite',\n",
       " 'uncleavable',\n",
       " 'appetently',\n",
       " 'eurycephalous',\n",
       " 'synagogism',\n",
       " 'unphoneticness',\n",
       " 'polyphagia',\n",
       " 'fort',\n",
       " 'antiannexationist',\n",
       " 'irrepressibleness',\n",
       " 'chlamyphorus',\n",
       " 'credensive',\n",
       " 'helianthoidean',\n",
       " 'nonundulatory',\n",
       " 'disabled',\n",
       " 'gazebo',\n",
       " 'dimity',\n",
       " 'geode',\n",
       " 'intermittently',\n",
       " 'prerespectability',\n",
       " 'nicker',\n",
       " 'resteep',\n",
       " 'haggy',\n",
       " 'undubbed',\n",
       " 'forgery',\n",
       " 'misprofessor',\n",
       " 'alcalzar',\n",
       " 'huffishly',\n",
       " 'unlowly',\n",
       " 'cherty',\n",
       " 'cholecystitis',\n",
       " 'daitya',\n",
       " 'machinification',\n",
       " 'muddy',\n",
       " 'fireproofing',\n",
       " 'ostreiculture',\n",
       " 'acridness',\n",
       " 'genesiurgic',\n",
       " 'nicknameless',\n",
       " 'proamateur',\n",
       " 'sanitarily',\n",
       " 'socioromantic',\n",
       " 'unpulverize',\n",
       " 'unsoulfully',\n",
       " 'ballam',\n",
       " 'denutrition',\n",
       " 'polyandria',\n",
       " 'aspirate',\n",
       " 'pendulumlike',\n",
       " 'adnate',\n",
       " 'misclass',\n",
       " 'praline',\n",
       " 'lovemonger',\n",
       " 'trisome',\n",
       " 'ureometry',\n",
       " 'dolman',\n",
       " 'xanthinuria',\n",
       " 'pitcairnia',\n",
       " 'cyclotella',\n",
       " 'uneasiness',\n",
       " 'alfiona',\n",
       " 'tsoneca',\n",
       " 'subordinateness',\n",
       " 'unaging',\n",
       " 'maysin',\n",
       " 'luminator',\n",
       " 'hemipodii',\n",
       " 'inflorescent',\n",
       " 'superclaim',\n",
       " 'nucamentaceous',\n",
       " 'semibreve',\n",
       " 'stratameter',\n",
       " 'regurgitate',\n",
       " 'lyctidae',\n",
       " 'relower',\n",
       " 'thunderplump',\n",
       " 'pointlet',\n",
       " 'prevaluation',\n",
       " 'synergistical',\n",
       " 'assumingness',\n",
       " 'enchytraeidae',\n",
       " 'pediform',\n",
       " 'hierogrammat',\n",
       " 'intracephalic',\n",
       " 'aboma',\n",
       " 'influxable',\n",
       " 'vitrescence',\n",
       " 'malapropish',\n",
       " 'ketting',\n",
       " 'chondric',\n",
       " 'thorough',\n",
       " 'beatificate',\n",
       " 'believingly',\n",
       " 'gadolinium',\n",
       " 'mispractice',\n",
       " 'amidoazobenzol',\n",
       " 'legitimateness',\n",
       " 'overlustiness',\n",
       " 'phrontisterion',\n",
       " 'postmyxedematous',\n",
       " 'tyto',\n",
       " 'palas',\n",
       " 'decollated',\n",
       " 'esteem',\n",
       " 'sisal',\n",
       " 'enghosted',\n",
       " 'schema',\n",
       " 'socioeconomic',\n",
       " 'crare',\n",
       " 'hatefully',\n",
       " 'licenser',\n",
       " 'waterwood',\n",
       " 'sabulite',\n",
       " 'demigroat',\n",
       " 'foraminous',\n",
       " 'adjudicative',\n",
       " 'idolodulia',\n",
       " 'fissidentaceous',\n",
       " 'sideration',\n",
       " 'ephemeromorphic',\n",
       " 'overblind',\n",
       " 'scalage',\n",
       " 'morbifical',\n",
       " 'rougemontite',\n",
       " 'noseburn',\n",
       " 'panzooty',\n",
       " 'penthorum',\n",
       " 'heml',\n",
       " 'swerver',\n",
       " 'overventilate',\n",
       " 'attern',\n",
       " 'pelorus',\n",
       " 'wintrily',\n",
       " 'rheotaxis',\n",
       " 'ripener',\n",
       " 'ballist',\n",
       " 'nicotianin',\n",
       " 'sasa',\n",
       " 'unfrivolous',\n",
       " 'fraternism',\n",
       " 'capital',\n",
       " 'uniflorous',\n",
       " 'oddsbud',\n",
       " 'cypseline',\n",
       " 'opinionedness',\n",
       " 'suspectedness',\n",
       " 'erythrocytic',\n",
       " 'proline',\n",
       " 'superabundantly',\n",
       " 'circularizer',\n",
       " 'paleometeorology',\n",
       " 'apomecometer',\n",
       " 'borish',\n",
       " 'sodamide',\n",
       " 'isodialuric',\n",
       " 'lutulence',\n",
       " 'aftereffect',\n",
       " 'foreadmonish',\n",
       " 'septenarian',\n",
       " 'horsepox',\n",
       " 'domineering',\n",
       " 'lin',\n",
       " 'pargo',\n",
       " 'helmeted',\n",
       " 'vanda',\n",
       " 'resolvancy',\n",
       " 'barysilite',\n",
       " 'caproate',\n",
       " 'unwieldly',\n",
       " 'overtrouble',\n",
       " 'mellite',\n",
       " 'chola',\n",
       " 'avouch',\n",
       " 'unscarfed',\n",
       " 'colloidality',\n",
       " 'mayoress',\n",
       " 'menstruate',\n",
       " 'corrade',\n",
       " 'bedder',\n",
       " 'exclusionist',\n",
       " 'nonlixiviated',\n",
       " 'interlingual',\n",
       " 'propinquant',\n",
       " 'phenogenesis',\n",
       " 'preregulate',\n",
       " 'adawlut',\n",
       " 'ponticular',\n",
       " 'aam',\n",
       " 'globosity',\n",
       " 'nonsmoker',\n",
       " 'cityish',\n",
       " 'holdable',\n",
       " 'cupidon',\n",
       " 'bedquilt',\n",
       " 'cognizant',\n",
       " 'suprematism',\n",
       " 'landowning',\n",
       " 'perceptivity',\n",
       " 'archmagician',\n",
       " 'jogger',\n",
       " 'peratae',\n",
       " 'phosphorescently',\n",
       " 'aymara',\n",
       " 'pelvetia',\n",
       " 'acromiothoracic',\n",
       " 'rerake',\n",
       " 'perigangliitis',\n",
       " 'theft',\n",
       " 'slumproof',\n",
       " 'exoerythrocytic',\n",
       " 'ostentation',\n",
       " 'camaraderie',\n",
       " 'hippeastrum',\n",
       " 'counterborder',\n",
       " 'stater',\n",
       " 'chaucerism',\n",
       " 'hexode',\n",
       " 'superfluousness',\n",
       " 'thromboid',\n",
       " 'unselect',\n",
       " 'healthless',\n",
       " 'trochitic',\n",
       " 'luteorufescent',\n",
       " 'wem',\n",
       " 'reswarm',\n",
       " 'brecciated',\n",
       " 'craver',\n",
       " 'nosomania',\n",
       " 'chaui',\n",
       " 'stagnancy',\n",
       " 'calor',\n",
       " 'hoyle',\n",
       " 'pantostomata',\n",
       " 'nepotism',\n",
       " 'mirdaha',\n",
       " 'sluglike',\n",
       " 'peritectic',\n",
       " 'steroid',\n",
       " 'appellability',\n",
       " 'scyt',\n",
       " 'eosinate',\n",
       " 'manicure',\n",
       " 'peccantly',\n",
       " 'coracoscapular',\n",
       " 'riskproof',\n",
       " 'neoteinic',\n",
       " 'viburnum',\n",
       " 'amanous',\n",
       " 'jove',\n",
       " 'debussyanize',\n",
       " 'insemination',\n",
       " 'yearday',\n",
       " 'heliconiinae',\n",
       " 'fractionating',\n",
       " 'perilless',\n",
       " 'tempyo',\n",
       " 'salnatron',\n",
       " 'angiogenic',\n",
       " 'muntiacus',\n",
       " 'quintuple',\n",
       " 'taxiable',\n",
       " 'adumbrative',\n",
       " 'irefully',\n",
       " 'pleurocele',\n",
       " 'eyeish',\n",
       " 'forewing',\n",
       " 'ungrafted',\n",
       " 'capableness',\n",
       " 'liard',\n",
       " 'monandrian',\n",
       " 'faintly',\n",
       " 'cerebromeningitis',\n",
       " 'shrubwood',\n",
       " 'resufferance',\n",
       " 'smokewood',\n",
       " 'fou',\n",
       " 'ocneria',\n",
       " 'topmost',\n",
       " 'unimpregnate',\n",
       " 'diabolicalness',\n",
       " 'revigoration',\n",
       " 'zephyranthes',\n",
       " 'infrequent',\n",
       " 'spudder',\n",
       " 'hoplomachic',\n",
       " 'dunbird',\n",
       " 'chameleonize',\n",
       " 'valleylike',\n",
       " 'conquerment',\n",
       " 'remedial',\n",
       " 'untartarized',\n",
       " 'arecoline',\n",
       " 'phoresy',\n",
       " 'magneto',\n",
       " 'doby',\n",
       " 'incidentalness',\n",
       " 'pseudoasymmetrical',\n",
       " 'underprefect',\n",
       " 'paradiazine',\n",
       " 'microcombustion',\n",
       " 'pombe',\n",
       " 'berycoidean',\n",
       " 'proceed',\n",
       " 'chondromucoid',\n",
       " 'dissemination',\n",
       " 'lawfulness',\n",
       " 'diagrammatician',\n",
       " 'backfiller',\n",
       " 'unpolemically',\n",
       " 'indispensability',\n",
       " 'cornelius',\n",
       " 'phyllocystic',\n",
       " 'megalodon',\n",
       " 'hysterosis',\n",
       " 'whitefootism',\n",
       " 'gallegan',\n",
       " 'museologist',\n",
       " 'unsystemizable',\n",
       " 'glauconitic',\n",
       " 'willyer',\n",
       " 'tetrabelodont',\n",
       " 'amaurotic',\n",
       " 'plentifulness',\n",
       " 'immute',\n",
       " 'submersible',\n",
       " 'kaliana',\n",
       " 'scoparin',\n",
       " 'swingstock',\n",
       " 'unbrewed',\n",
       " 'mac',\n",
       " 'pantellerite',\n",
       " 'quaestorship',\n",
       " 'palpebritis',\n",
       " 'nephrocyte',\n",
       " 'symposial',\n",
       " 'archlute',\n",
       " 'carcinosarcoma',\n",
       " 'nowhence',\n",
       " 'katacrotic',\n",
       " 'klippe',\n",
       " 'levigable',\n",
       " 'drainage',\n",
       " 'rheeboc',\n",
       " 'sacrosanctity',\n",
       " 'russomaniac',\n",
       " 'trispinose',\n",
       " 'jactant',\n",
       " 'bedsore',\n",
       " 'versemongery',\n",
       " 'subcolumnar',\n",
       " 'tamarisk',\n",
       " 'thyrsoid',\n",
       " 'nitrometric',\n",
       " 'unaccosted',\n",
       " 'ephemeralness',\n",
       " 'stauromedusae',\n",
       " 'hypnologist',\n",
       " 'torsoclusion',\n",
       " 'coercively',\n",
       " 'protophyte',\n",
       " 'sirmian',\n",
       " 'sepiary',\n",
       " 'dolorifuge',\n",
       " 'goffering',\n",
       " 'unrecounted',\n",
       " 'moray',\n",
       " 'noachian',\n",
       " 'suffiction',\n",
       " 'afformative',\n",
       " 'auriculotemporal',\n",
       " 'putrefactiveness',\n",
       " 'untrifling',\n",
       " 'ciceroni',\n",
       " 'protogospel',\n",
       " 'issuer',\n",
       " 'submental',\n",
       " 'quadricapsular',\n",
       " 'tugging',\n",
       " 'overshepherd',\n",
       " 'assertory',\n",
       " 'glycolytic',\n",
       " 'poneroid',\n",
       " 'syncytia',\n",
       " 'unballast',\n",
       " 'unplighted',\n",
       " 'basisphenoid',\n",
       " 'fairground',\n",
       " 'schoolmaid',\n",
       " 'silures',\n",
       " 'timely',\n",
       " 'subhalid',\n",
       " 'breechless',\n",
       " 'natchitoches',\n",
       " 'actinine',\n",
       " 'pretravel',\n",
       " 'superlogical',\n",
       " 'clattertrap',\n",
       " 'forefit',\n",
       " 'junk',\n",
       " 'saccomyine',\n",
       " 'acoumetry',\n",
       " 'intransitivity',\n",
       " 'unhealthful',\n",
       " 'jower',\n",
       " 'foundership',\n",
       " 'mahayana',\n",
       " 'unreasonable',\n",
       " 'allothogenous',\n",
       " 'unpraiseworthy',\n",
       " 'holohedric',\n",
       " 'enhydrinae',\n",
       " 'evictor',\n",
       " 'prometheus',\n",
       " 'yet',\n",
       " 'urethrosexual',\n",
       " 'interparty',\n",
       " 'prestidigitator',\n",
       " 'spiflication',\n",
       " 'unparticipated',\n",
       " 'geometrine',\n",
       " 'boun',\n",
       " 'suggestibly',\n",
       " 'chorotega',\n",
       " 'longue',\n",
       " 'municipalizer',\n",
       " 'uncontrollableness',\n",
       " 'exsanguious',\n",
       " 'highmoor',\n",
       " 'knobbler',\n",
       " 'shoptalk',\n",
       " 'hove',\n",
       " 'undermanned',\n",
       " 'complin',\n",
       " 'euphausiid',\n",
       " 'smiggins',\n",
       " 'wore',\n",
       " 'preadjective',\n",
       " 'thanklessness',\n",
       " 'seallike',\n",
       " 'mesenchymal',\n",
       " 'let',\n",
       " 'haulage',\n",
       " 'ununderstandably',\n",
       " 'debilitation',\n",
       " 'saccharometry',\n",
       " 'idlish',\n",
       " 'rotating',\n",
       " 'dominion',\n",
       " 'saltee',\n",
       " 'substanch',\n",
       " 'orogen',\n",
       " 'unarrested',\n",
       " 'tubiparous',\n",
       " 'flushness',\n",
       " 'latakia',\n",
       " 'oceanographist',\n",
       " 'palmatisected',\n",
       " 'sinecurist',\n",
       " 'colloquially',\n",
       " 'indivisibleness',\n",
       " 'overthriftiness',\n",
       " 'unoriginateness',\n",
       " 'uncasked',\n",
       " 'knotty',\n",
       " 'homochlamydeous',\n",
       " 'prunellidae',\n",
       " 'cochlearia',\n",
       " 'howdie',\n",
       " 'sensyne',\n",
       " 'squarson',\n",
       " 'undertrick',\n",
       " 'awald',\n",
       " 'acrocoracoid',\n",
       " 'mournival',\n",
       " 'transperitoneally',\n",
       " 'anticreeper',\n",
       " 'intermention',\n",
       " 'homochromous',\n",
       " 'overkeenness',\n",
       " 'penuriousness',\n",
       " 'tanling',\n",
       " 'mannoketoheptose',\n",
       " 'trock',\n",
       " 'soury',\n",
       " 'advocation',\n",
       " 'nonpharmaceutical',\n",
       " 'hoveringly',\n",
       " 'eloise',\n",
       " 'sley',\n",
       " 'jerrie',\n",
       " 'nonacquaintance',\n",
       " 'plowmanship',\n",
       " 'strickenly',\n",
       " 'multiblade',\n",
       " 'anatropal',\n",
       " 'tranquilizingly',\n",
       " 'endocortex',\n",
       " 'dermatocyst',\n",
       " 'semidisk',\n",
       " 'ideoplasty',\n",
       " 'osphyocele',\n",
       " 'demonologic',\n",
       " 'coodle',\n",
       " 'unthronged',\n",
       " 'edifying',\n",
       " 'granulitic',\n",
       " 'beneficially',\n",
       " 'huss',\n",
       " 'infold',\n",
       " 'swartness',\n",
       " 'probator',\n",
       " 'hydatopneumatic',\n",
       " 'pinonic',\n",
       " 'brushful',\n",
       " 'await',\n",
       " 'stylopharyngeal',\n",
       " 'merorganize',\n",
       " 'broncholemmitis',\n",
       " 'sclerodermite',\n",
       " 'troca',\n",
       " 'odalisk',\n",
       " 'bibracteolate',\n",
       " 'bighearted',\n",
       " 'viduinae',\n",
       " 'leban',\n",
       " 'semelincident',\n",
       " 'frowningly',\n",
       " 'subcampanulate',\n",
       " 'dashingly',\n",
       " 'bough',\n",
       " 'overhang',\n",
       " 'leptoclase',\n",
       " 'serpentwood',\n",
       " 'berdache',\n",
       " 'psychometry',\n",
       " 'codiaceae',\n",
       " 'imbreviate',\n",
       " 'dinghee',\n",
       " 'antidyscratic',\n",
       " 'entitle',\n",
       " 'rhizoplast',\n",
       " 'unlarge',\n",
       " 'lacuscular',\n",
       " 'somewise',\n",
       " 'untransacted',\n",
       " 'actinophore',\n",
       " 'cucumber',\n",
       " 'protoprism',\n",
       " 'yammadji',\n",
       " 'helicopter',\n",
       " 'nonlisting',\n",
       " 'transpeciate',\n",
       " 'megacoulomb',\n",
       " 'dysuria',\n",
       " 'narcohypnia',\n",
       " 'palladious',\n",
       " 'echinodorus',\n",
       " 'pariti',\n",
       " 'unflexed',\n",
       " 'medicamentous',\n",
       " 'antimonate',\n",
       " 'scatch',\n",
       " 'chondromalacia',\n",
       " 'thirling',\n",
       " 'dravidic',\n",
       " 'funeralize',\n",
       " 'intrapetiolar',\n",
       " 'epistropheal',\n",
       " 'laguncularia',\n",
       " 'lawgiving',\n",
       " 'encyrtid',\n",
       " 'ornithoscopic',\n",
       " 'outhiss',\n",
       " 'removability',\n",
       " 'snatchy',\n",
       " 'untrussed',\n",
       " 'valleywise',\n",
       " 'shen',\n",
       " 'unskilfully',\n",
       " 'airing',\n",
       " 'supermechanical',\n",
       " 'crossette',\n",
       " 'feverishly',\n",
       " 'hirable',\n",
       " 'piroplasma',\n",
       " 'cheilodipterus',\n",
       " 'extracutaneous',\n",
       " 'cannibalistic',\n",
       " 'shakiness',\n",
       " 'meraline',\n",
       " 'rushed',\n",
       " 'zooerythrin',\n",
       " 'fleecer',\n",
       " 'beglerbegship',\n",
       " 'rosery',\n",
       " 'concessor',\n",
       " 'berengelite',\n",
       " 'bachichi',\n",
       " 'mapper',\n",
       " 'tachylytic',\n",
       " 'bagheli',\n",
       " 'voar',\n",
       " 'pottiaceae',\n",
       " 'ungrudgingly',\n",
       " 'wocheinite',\n",
       " 'isodiazo',\n",
       " 'prefinance',\n",
       " 'urochord',\n",
       " 'pravity',\n",
       " 'spurmoney',\n",
       " 'platitudinous',\n",
       " 'unexcluded',\n",
       " 'fornix',\n",
       " 'unadoration',\n",
       " 'cinquefoil',\n",
       " 'quinine',\n",
       " 'gliadin',\n",
       " 'metaplumbate',\n",
       " 'lithesome',\n",
       " 'intercoxal',\n",
       " 'henbill',\n",
       " ...]"
      ]
     },
     "execution_count": 12,
     "metadata": {},
     "output_type": "execute_result"
    }
   ],
   "source": [
    "wordunique"
   ]
  },
  {
   "cell_type": "code",
   "execution_count": 13,
   "metadata": {
    "collapsed": true
   },
   "outputs": [],
   "source": [
    "wordunique.sort()"
   ]
  },
  {
   "cell_type": "code",
   "execution_count": 14,
   "metadata": {
    "collapsed": false
   },
   "outputs": [
    {
     "data": {
      "text/plain": [
       "['a',\n",
       " 'aa',\n",
       " 'aal',\n",
       " 'aalii',\n",
       " 'aam',\n",
       " 'aani',\n",
       " 'aardvark',\n",
       " 'aardwolf',\n",
       " 'aaron',\n",
       " 'aaronic']"
      ]
     },
     "execution_count": 14,
     "metadata": {},
     "output_type": "execute_result"
    }
   ],
   "source": [
    "wordunique[:10]"
   ]
  },
  {
   "cell_type": "code",
   "execution_count": 15,
   "metadata": {
    "collapsed": true
   },
   "outputs": [],
   "source": [
    "wordclean = [word.strip().lower() for word in open('words','r')]"
   ]
  },
  {
   "cell_type": "code",
   "execution_count": 16,
   "metadata": {
    "collapsed": false
   },
   "outputs": [
    {
     "data": {
      "text/plain": [
       "['a',\n",
       " 'a',\n",
       " 'aa',\n",
       " 'aal',\n",
       " 'aalii',\n",
       " 'aam',\n",
       " 'aani',\n",
       " 'aardvark',\n",
       " 'aardwolf',\n",
       " 'aaron']"
      ]
     },
     "execution_count": 16,
     "metadata": {},
     "output_type": "execute_result"
    }
   ],
   "source": [
    "wordclean[:10]"
   ]
  },
  {
   "cell_type": "code",
   "execution_count": 17,
   "metadata": {
    "collapsed": true
   },
   "outputs": [],
   "source": [
    "wordclean = sorted(list(set([word.strip().lower() for word in open('words','r')])))"
   ]
  },
  {
   "cell_type": "code",
   "execution_count": 18,
   "metadata": {
    "collapsed": false
   },
   "outputs": [
    {
     "data": {
      "text/plain": [
       "['a',\n",
       " 'aa',\n",
       " 'aal',\n",
       " 'aalii',\n",
       " 'aam',\n",
       " 'aani',\n",
       " 'aardvark',\n",
       " 'aardwolf',\n",
       " 'aaron',\n",
       " 'aaronic']"
      ]
     },
     "execution_count": 18,
     "metadata": {},
     "output_type": "execute_result"
    }
   ],
   "source": [
    "wordclean[:10]"
   ]
  },
  {
   "cell_type": "code",
   "execution_count": 19,
   "metadata": {
    "collapsed": false
   },
   "outputs": [
    {
     "data": {
      "text/plain": [
       "['e', 'i', 'l', 's', 'v']"
      ]
     },
     "execution_count": 19,
     "metadata": {},
     "output_type": "execute_result"
    }
   ],
   "source": [
    "sorted('lives')"
   ]
  },
  {
   "cell_type": "code",
   "execution_count": 20,
   "metadata": {
    "collapsed": false
   },
   "outputs": [
    {
     "data": {
      "text/plain": [
       "True"
      ]
     },
     "execution_count": 20,
     "metadata": {},
     "output_type": "execute_result"
    }
   ],
   "source": [
    "sorted('lives') == sorted('elvis')"
   ]
  },
  {
   "cell_type": "code",
   "execution_count": 21,
   "metadata": {
    "collapsed": false
   },
   "outputs": [
    {
     "data": {
      "text/plain": [
       "False"
      ]
     },
     "execution_count": 21,
     "metadata": {},
     "output_type": "execute_result"
    }
   ],
   "source": [
    "sorted('love') == sorted('hate')"
   ]
  },
  {
   "cell_type": "code",
   "execution_count": 22,
   "metadata": {
    "collapsed": true
   },
   "outputs": [],
   "source": [
    "def signature(word):\n",
    "    return ''.join(sorted(word))"
   ]
  },
  {
   "cell_type": "code",
   "execution_count": 23,
   "metadata": {
    "collapsed": false
   },
   "outputs": [
    {
     "data": {
      "text/plain": [
       "'eilsv'"
      ]
     },
     "execution_count": 23,
     "metadata": {},
     "output_type": "execute_result"
    }
   ],
   "source": [
    "signature('lives')"
   ]
  },
  {
   "cell_type": "code",
   "execution_count": 24,
   "metadata": {
    "collapsed": false
   },
   "outputs": [
    {
     "data": {
      "text/plain": [
       "'a/b/c'"
      ]
     },
     "execution_count": 24,
     "metadata": {},
     "output_type": "execute_result"
    }
   ],
   "source": [
    "'/'.join(['a','b','c'])"
   ]
  },
  {
   "cell_type": "code",
   "execution_count": 25,
   "metadata": {
    "collapsed": true
   },
   "outputs": [],
   "source": [
    "def anagram(word):\n",
    "    return [w for w in wordclean if signature(w) == signature(word)]"
   ]
  },
  {
   "cell_type": "code",
   "execution_count": 26,
   "metadata": {
    "collapsed": false
   },
   "outputs": [
    {
     "data": {
      "text/plain": [
       "['dictionary', 'indicatory']"
      ]
     },
     "execution_count": 26,
     "metadata": {},
     "output_type": "execute_result"
    }
   ],
   "source": [
    "anagram('dictionary')"
   ]
  },
  {
   "cell_type": "code",
   "execution_count": 27,
   "metadata": {
    "collapsed": false
   },
   "outputs": [
    {
     "name": "stdout",
     "output_type": "stream",
     "text": [
      "1 loop, best of 3: 646 ms per loop\n"
     ]
    }
   ],
   "source": [
    "%timeit anagram('dictionary')"
   ]
  },
  {
   "cell_type": "code",
   "execution_count": 28,
   "metadata": {
    "collapsed": false
   },
   "outputs": [
    {
     "ename": "KeyError",
     "evalue": "'a'",
     "output_type": "error",
     "traceback": [
      "\u001b[0;31m---------------------------------------------------------------------------\u001b[0m",
      "\u001b[0;31mKeyError\u001b[0m                                  Traceback (most recent call last)",
      "\u001b[0;32m<ipython-input-28-198314f94f4a>\u001b[0m in \u001b[0;36m<module>\u001b[0;34m()\u001b[0m\n\u001b[1;32m      2\u001b[0m \u001b[0;34m\u001b[0m\u001b[0m\n\u001b[1;32m      3\u001b[0m \u001b[0;32mfor\u001b[0m \u001b[0mword\u001b[0m \u001b[0;32min\u001b[0m \u001b[0mwordclean\u001b[0m\u001b[0;34m:\u001b[0m\u001b[0;34m\u001b[0m\u001b[0m\n\u001b[0;32m----> 4\u001b[0;31m     \u001b[0mwords_bysig\u001b[0m\u001b[0;34m[\u001b[0m\u001b[0msignature\u001b[0m\u001b[0;34m(\u001b[0m\u001b[0mword\u001b[0m\u001b[0;34m)\u001b[0m\u001b[0;34m]\u001b[0m\u001b[0;34m.\u001b[0m\u001b[0mappend\u001b[0m\u001b[0;34m(\u001b[0m\u001b[0mword\u001b[0m\u001b[0;34m)\u001b[0m\u001b[0;34m\u001b[0m\u001b[0m\n\u001b[0m",
      "\u001b[0;31mKeyError\u001b[0m: 'a'"
     ]
    }
   ],
   "source": [
    "words_bysig = {}\n",
    "\n",
    "for word in wordclean:\n",
    "    words_bysig[signature(word)].append(word)"
   ]
  },
  {
   "cell_type": "code",
   "execution_count": null,
   "metadata": {
    "collapsed": true
   },
   "outputs": [],
   "source": [
    "import collections"
   ]
  },
  {
   "cell_type": "code",
   "execution_count": null,
   "metadata": {
    "collapsed": true
   },
   "outputs": [],
   "source": [
    "words_bysig = collections.defaultdict(list)\n",
    "\n",
    "for word in wordclean:\n",
    "    words_bysig[signature(word)].append(word)"
   ]
  },
  {
   "cell_type": "code",
   "execution_count": null,
   "metadata": {
    "collapsed": false
   },
   "outputs": [],
   "source": [
    "words_bysig"
   ]
  },
  {
   "cell_type": "code",
   "execution_count": null,
   "metadata": {
    "collapsed": true
   },
   "outputs": [],
   "source": [
    "def anagram_fast(word):\n",
    "    return words_bysig[signature(word)]"
   ]
  },
  {
   "cell_type": "code",
   "execution_count": null,
   "metadata": {
    "collapsed": false
   },
   "outputs": [],
   "source": [
    "anagram_fast('dictionary')"
   ]
  },
  {
   "cell_type": "code",
   "execution_count": null,
   "metadata": {
    "collapsed": true
   },
   "outputs": [],
   "source": [
    "anagrams_all = {word: anagram_fast(word) for word in wordclean if len(anagram_fast(word)) > 1}"
   ]
  },
  {
   "cell_type": "code",
   "execution_count": null,
   "metadata": {
    "collapsed": false
   },
   "outputs": [],
   "source": [
    "len(anagrams_all)"
   ]
  },
  {
   "cell_type": "code",
   "execution_count": null,
   "metadata": {
    "collapsed": false
   },
   "outputs": [],
   "source": [
    "%timeit anagrams_all = {word: anagram_fast(word) for word in wordclean if len(anagram_fast(word)) > 1}"
   ]
  },
  {
   "cell_type": "code",
   "execution_count": 29,
   "metadata": {
    "collapsed": false
   },
   "outputs": [
    {
     "ename": "NameError",
     "evalue": "name 'anagrams_all' is not defined",
     "output_type": "error",
     "traceback": [
      "\u001b[0;31m---------------------------------------------------------------------------\u001b[0m",
      "\u001b[0;31mNameError\u001b[0m                                 Traceback (most recent call last)",
      "\u001b[0;32m<ipython-input-29-d212ee23a7bf>\u001b[0m in \u001b[0;36m<module>\u001b[0;34m()\u001b[0m\n\u001b[0;32m----> 1\u001b[0;31m \u001b[0mlen\u001b[0m\u001b[0;34m(\u001b[0m\u001b[0managrams_all\u001b[0m\u001b[0;34m)\u001b[0m\u001b[0;34m\u001b[0m\u001b[0m\n\u001b[0m",
      "\u001b[0;31mNameError\u001b[0m: name 'anagrams_all' is not defined"
     ]
    }
   ],
   "source": [
    "len(anagrams_all)"
   ]
  },
  {
   "cell_type": "code",
   "execution_count": null,
   "metadata": {
    "collapsed": true
   },
   "outputs": [],
   "source": []
  }
 ],
 "metadata": {
  "kernelspec": {
   "display_name": "Python [default]",
   "language": "python",
   "name": "python3"
  },
  "language_info": {
   "codemirror_mode": {
    "name": "ipython",
    "version": 3
   },
   "file_extension": ".py",
   "mimetype": "text/x-python",
   "name": "python",
   "nbconvert_exporter": "python",
   "pygments_lexer": "ipython3",
   "version": "3.5.2"
  }
 },
 "nbformat": 4,
 "nbformat_minor": 0
}
