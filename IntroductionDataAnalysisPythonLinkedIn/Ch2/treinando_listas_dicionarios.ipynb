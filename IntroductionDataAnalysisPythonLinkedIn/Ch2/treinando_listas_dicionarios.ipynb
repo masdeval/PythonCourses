{
 "cells": [
  {
   "cell_type": "code",
   "execution_count": 29,
   "metadata": {
    "collapsed": false
   },
   "outputs": [
    {
     "name": "stdout",
     "output_type": "stream",
     "text": [
      "1\n",
      "dict_values([2, 1])\n",
      "dict_items([('Chave 2', 2), ('Chave 1', 1)])\n",
      "dict_keys(['Chave 2', 'Chave 1'])\n",
      "['mpg', 'cylinders', 'displacement', 'horsepower', 'weight', 'acceleration', 'year', 'origin', 'name']\n",
      "Index(['cylinders', 'displacement', 'horsepower', 'weight', 'acceleration',\n",
      "       'year', 'origin', 'name'],\n",
      "      dtype='object')\n",
      "   mpg  cylinders  displacement  horsepower  weight  acceleration  year  \\\n",
      "0  0.0        0.0           0.0         0.0     0.0           0.0   0.0   \n",
      "\n",
      "   origin  name  \n",
      "0     0.0   0.0  \n",
      "mpg             1.0\n",
      "cylinders       1.0\n",
      "displacement    1.0\n",
      "horsepower      1.0\n",
      "weight          1.0\n",
      "acceleration    1.0\n",
      "year            1.0\n",
      "origin          1.0\n",
      "name            1.0\n",
      "Name: 0, dtype: float64\n"
     ]
    }
   ],
   "source": [
    "import numpy as np\n",
    "import pandas as pd\n",
    "\n",
    "dict = {\"Chave 1\":1, \"Chave 2\":2}\n",
    "\n",
    "print(dict['Chave 1'])\n",
    "\n",
    "print(dict.values())\n",
    "print(dict.items())\n",
    "print(dict.keys())\n",
    "\n",
    "df = pd.read_csv(\"auto-mpg.csv\",na_values=['NA','?'])\n",
    "\n",
    "print(list(df.columns))\n",
    "print(df.columns[1:])\n",
    "\n",
    "reca = np.array([(1,(2.0,3.0),'hey'),(2,(3.5,4.0),'n')],\n",
    "                dtype=[('x',np.int32),('y',np.float64,2),('z',np.str,4)])\n",
    "\n",
    "data = np.zeros((1,df.shape[1]))\n",
    "\n",
    "data = pd.DataFrame(data, columns=df.columns)\n",
    "\n",
    "print(data)\n",
    "\n",
    "\n",
    "\n",
    "data.iloc[0] = [1,1,1,1,1,1,1,1,1]\n",
    "print(data.iloc[0])"
   ]
  }
 ],
 "metadata": {
  "anaconda-cloud": {},
  "kernelspec": {
   "display_name": "Python [conda root]",
   "language": "python",
   "name": "conda-root-py"
  },
  "language_info": {
   "codemirror_mode": {
    "name": "ipython",
    "version": 3
   },
   "file_extension": ".py",
   "mimetype": "text/x-python",
   "name": "python",
   "nbconvert_exporter": "python",
   "pygments_lexer": "ipython3",
   "version": "3.5.2"
  }
 },
 "nbformat": 4,
 "nbformat_minor": 1
}
