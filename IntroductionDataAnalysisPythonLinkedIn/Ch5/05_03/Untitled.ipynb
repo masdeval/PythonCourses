{
 "cells": [
  {
   "cell_type": "code",
   "execution_count": 24,
   "metadata": {
    "collapsed": false
   },
   "outputs": [
    {
     "name": "stdout",
     "output_type": "stream",
     "text": [
      "Listas\n",
      "[[1, 2, 3], (4, 5)]\n",
      "[[1, 2, 3], (4, 5), [1, 2, 3], (4, 5), [1, 2, 3], (4, 5)]\n",
      "[[1, 2, 3], (4, 5), 7, 8]\n",
      "4\n",
      "[[1, 2, 3], (4, 5), 7, 8, [1, 2, 3], (4, 5), 7, 8, [1, 2, 3], (4, 5), 7, 8, 5]\n",
      "13\n",
      "\n",
      "\n",
      "Numpy array\n",
      "[  0.    2.5   5.    7.5  10. ]\n",
      "[  0.   5.  10.  15.  20.]\n",
      "[[1 2 3]\n",
      " [1 2 3]\n",
      " [4 5 6]\n",
      " [4 5 6]]\n",
      "\n",
      "\n",
      "Dicionario \n",
      "1\n",
      "Valor2\n",
      "[['2' 'Valor2']\n",
      " ['Chave1' '1']]\n",
      "['2' 'Valor2']\n",
      "2\n",
      "\n",
      "\n",
      "Numpy Record\n",
      "2.0\n",
      "3.0\n",
      "[1 2]\n"
     ]
    }
   ],
   "source": [
    "import numpy as np\n",
    "\n",
    "print(\"Listas\")\n",
    "a = [[1,2,3],(4,5)]\n",
    "print(a)\n",
    "print(a*3)\n",
    "a = a + [7,8]\n",
    "print(a)\n",
    "print(len(a))\n",
    "a = a*3\n",
    "a.append(5)\n",
    "print(a)\n",
    "print(len(a))\n",
    "\n",
    "print(\"\\n\\nNumpy array\")\n",
    "v = np.linspace(0,10,5)\n",
    "print(v)\n",
    "print(v*2)\n",
    "print(np.concatenate((   ([1,2,3],[1,2,3])  ,  ([4,5,6],[4,5,6])   )  ,0))\n",
    "\n",
    "print(\"\\n\\nDicionario \")\n",
    "b = {\"Chave1\":1,2:\"Valor2\"}\n",
    "print(b['Chave1'])\n",
    "print(b[2])\n",
    "print(np.array(list(b.items())))\n",
    "print(np.array(list(b.items())[0]))\n",
    "print(np.array(list(b.items())[0][0]))\n",
    "\n",
    "\n",
    "print(\"\\n\\nNumpy Record\")\n",
    "c = np.array([ (1,(2.0,3.0),'hey') , (2,(3.5,4.0),'n')] ,\n",
    "                dtype=[ ('x',np.int32), ('y',np.float64,2), ('z',np.str,4)])\n",
    "\n",
    "print(c[0][1][0])\n",
    "print(c[0][1][1])\n",
    "print(c['x'])\n"
   ]
  },
  {
   "cell_type": "code",
   "execution_count": null,
   "metadata": {
    "collapsed": true
   },
   "outputs": [],
   "source": []
  }
 ],
 "metadata": {
  "anaconda-cloud": {},
  "kernelspec": {
   "display_name": "Python [conda root]",
   "language": "python",
   "name": "conda-root-py"
  },
  "language_info": {
   "codemirror_mode": {
    "name": "ipython",
    "version": 3
   },
   "file_extension": ".py",
   "mimetype": "text/x-python",
   "name": "python",
   "nbconvert_exporter": "python",
   "pygments_lexer": "ipython3",
   "version": "3.5.2"
  }
 },
 "nbformat": 4,
 "nbformat_minor": 1
}
